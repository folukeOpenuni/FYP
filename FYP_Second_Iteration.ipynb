{
 "cells": [
  {
   "cell_type": "code",
   "execution_count": 1,
   "metadata": {},
   "outputs": [],
   "source": [
    "#link to github: https://github.com/folukeOpenuni/FYP\n",
    "from tkinter import *\n",
    "import numpy as np\n",
    "from numpy import sqrt\n",
    "import scipy\n",
    "import matplotlib.colors\n",
    "import scipy\n",
    "\n",
    "import matplotlib\n",
    "\n",
    "from matplotlib.backends.backend_tkagg import FigureCanvasTkAgg\n",
    "from matplotlib.figure import Figure\n",
    "\n",
    "# needs Axes3D object to activate the '3d' projection\n",
    "from mpl_toolkits.mplot3d import Axes3D\n",
    "from qutip import *\n",
    "import matplotlib.pyplot as plt\n",
    "\n",
    "b = Bloch3d()\n",
    "states = [\"| 0>\", \"| 1>\", \"| +>\", \"| ->\", \"| +i>\", \"| -i>\"]"
   ]
  },
  {
   "cell_type": "code",
   "execution_count": null,
   "metadata": {},
   "outputs": [],
   "source": []
  }
 ],
 "metadata": {
  "kernelspec": {
   "display_name": "Python 3",
   "language": "python",
   "name": "python3"
  },
  "language_info": {
   "codemirror_mode": {
    "name": "ipython",
    "version": 3
   },
   "file_extension": ".py",
   "mimetype": "text/x-python",
   "name": "python",
   "nbconvert_exporter": "python",
   "pygments_lexer": "ipython3",
   "version": "3.7.4"
  }
 },
 "nbformat": 4,
 "nbformat_minor": 2
}
